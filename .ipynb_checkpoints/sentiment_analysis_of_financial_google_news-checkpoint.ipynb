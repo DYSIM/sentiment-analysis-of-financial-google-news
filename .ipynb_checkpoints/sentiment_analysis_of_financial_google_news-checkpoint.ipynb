{
 "cells": [
  {
   "cell_type": "code",
   "execution_count": 53,
   "metadata": {},
   "outputs": [],
   "source": [
    "from nltk.sentiment.vader import SentimentIntensityAnalyzer as SIA\n"
   ]
  },
  {
   "cell_type": "code",
   "execution_count": 60,
   "metadata": {},
   "outputs": [],
   "source": [
    "import pandas as pd"
   ]
  },
  {
   "cell_type": "code",
   "execution_count": 54,
   "metadata": {},
   "outputs": [
    {
     "data": {
      "text/plain": [
       "[<div class=\"BNeawe vvjwJb AP7Wnd\">Could Google Suffer the Same Fate as Baidu?</div>,\n",
       " <div class=\"BNeawe vvjwJb AP7Wnd\">Why Baidu's Stock Rose 16.4% in November</div>,\n",
       " <div class=\"BNeawe vvjwJb AP7Wnd\">What Is Baidu, Inc.'s (NASDAQ:BIDU) Share Price Doing?</div>,\n",
       " <div class=\"BNeawe vvjwJb AP7Wnd\">Is Baidu, Inc. (BIDU) A Good Stock To Buy?</div>,\n",
       " <div class=\"BNeawe vvjwJb AP7Wnd\">Stock in the NEWS Limelight:: Baidu, Inc., (NASDAQ: BIDU)</div>,\n",
       " <div class=\"BNeawe vvjwJb AP7Wnd\">3 Ways Baidu Plans to Make a Comeback in China</div>,\n",
       " <div class=\"BNeawe vvjwJb AP7Wnd\">Baidu, Inc. [BIDU] – Is there any real value to BIDU Stock or is it vaporware?</div>,\n",
       " <div class=\"BNeawe vvjwJb AP7Wnd\">The Most Disappointing Tech Stock of 2019</div>,\n",
       " <div class=\"BNeawe vvjwJb AP7Wnd\">Stocks This Week: Buy Tesla And Sell Short Baidu</div>,\n",
       " <div class=\"BNeawe vvjwJb AP7Wnd\">Nvidia Shares Hit Two-Year Highs After Unveiling Chip Deals With Alibaba, Baidu and Didi</div>]"
      ]
     },
     "execution_count": 54,
     "metadata": {},
     "output_type": "execute_result"
    }
   ],
   "source": [
    "import requests\n",
    "from bs4 import BeautifulSoup\n",
    "\n",
    "s = 'BIDU stock'\n",
    "url = \"http://www.google.com/search?q=\"+s+\"&tbm=nws\"\n",
    "r1 = requests.get(url)\n",
    "coverpage = r1.content\n",
    "# print(coverpage)\n",
    "soup1 = BeautifulSoup(coverpage, 'html5lib')\n",
    "headlines = soup1.find_all('div', class_='BNeawe vvjwJb AP7Wnd')\n",
    "headlines"
   ]
  },
  {
   "cell_type": "code",
   "execution_count": 58,
   "metadata": {},
   "outputs": [],
   "source": [
    "sia = SIA()"
   ]
  },
  {
   "cell_type": "code",
   "execution_count": 59,
   "metadata": {},
   "outputs": [],
   "source": [
    "import csv\n",
    "import pandas as pd\n",
    "\n",
    "# stock market lexicon\n",
    "stock_lex = pd.read_csv('lexicon_data/stock_lex.csv')\n",
    "stock_lex['sentiment'] = (stock_lex['Aff_Score'] + stock_lex['Neg_Score'])/2\n",
    "stock_lex = dict(zip(stock_lex.Item, stock_lex.sentiment))\n",
    "stock_lex = {k:v for k,v in stock_lex.items() if len(k.split(' '))==1}\n",
    "stock_lex_scaled = {}\n",
    "for k, v in stock_lex.items():\n",
    "    if v > 0:\n",
    "        stock_lex_scaled[k] = v / max(stock_lex.values()) * 4\n",
    "    else:\n",
    "        stock_lex_scaled[k] = v / min(stock_lex.values()) * -4\n",
    "\n",
    "# Loughran and McDonald\n",
    "positive = []\n",
    "with open('lexicon_data/lm_positive.csv', 'r') as f:\n",
    "    reader = csv.reader(f)\n",
    "    for row in reader:\n",
    "        positive.append(row[0].strip())\n",
    "    \n",
    "negative = []\n",
    "with open('lexicon_data/lm_negative.csv', 'r') as f:\n",
    "    reader = csv.reader(f)\n",
    "    for row in reader:\n",
    "        entry = row[0].strip().split(\" \")\n",
    "        if len(entry) > 1:\n",
    "            negative.extend(entry)\n",
    "        else:\n",
    "            negative.append(entry[0])\n",
    "\n",
    "final_lex = {}\n",
    "final_lex.update({word:2.0 for word in positive})\n",
    "final_lex.update({word:-2.0 for word in negative})\n",
    "final_lex.update(stock_lex_scaled)\n",
    "final_lex.update(sia.lexicon)\n",
    "sia.lexicon = final_lex"
   ]
  },
  {
   "cell_type": "code",
   "execution_count": 62,
   "metadata": {},
   "outputs": [],
   "source": [
    "\n",
    "results = []\n",
    "\n",
    "for line in headlines:\n",
    "    casted_line = str(line)[34:-6]\n",
    "    pol_score = sia.polarity_scores(casted_line)\n",
    "    pol_score['headline'] = casted_line\n",
    "    results.append(pol_score)"
   ]
  },
  {
   "cell_type": "code",
   "execution_count": 63,
   "metadata": {},
   "outputs": [],
   "source": [
    "results = pd.DataFrame(results)"
   ]
  },
  {
   "cell_type": "code",
   "execution_count": 64,
   "metadata": {},
   "outputs": [
    {
     "data": {
      "text/html": [
       "<div>\n",
       "<style scoped>\n",
       "    .dataframe tbody tr th:only-of-type {\n",
       "        vertical-align: middle;\n",
       "    }\n",
       "\n",
       "    .dataframe tbody tr th {\n",
       "        vertical-align: top;\n",
       "    }\n",
       "\n",
       "    .dataframe thead th {\n",
       "        text-align: right;\n",
       "    }\n",
       "</style>\n",
       "<table border=\"1\" class=\"dataframe\">\n",
       "  <thead>\n",
       "    <tr style=\"text-align: right;\">\n",
       "      <th></th>\n",
       "      <th>compound</th>\n",
       "      <th>headline</th>\n",
       "      <th>neg</th>\n",
       "      <th>neu</th>\n",
       "      <th>pos</th>\n",
       "    </tr>\n",
       "  </thead>\n",
       "  <tbody>\n",
       "    <tr>\n",
       "      <th>0</th>\n",
       "      <td>-0.5550</td>\n",
       "      <td>Could Google Suffer the Same Fate as Baidu?</td>\n",
       "      <td>0.712</td>\n",
       "      <td>0.185</td>\n",
       "      <td>0.103</td>\n",
       "    </tr>\n",
       "    <tr>\n",
       "      <th>1</th>\n",
       "      <td>0.1625</td>\n",
       "      <td>Why Baidu's Stock Rose 16.4% in November</td>\n",
       "      <td>0.139</td>\n",
       "      <td>0.512</td>\n",
       "      <td>0.349</td>\n",
       "    </tr>\n",
       "    <tr>\n",
       "      <th>2</th>\n",
       "      <td>0.3732</td>\n",
       "      <td>What Is Baidu, Inc.'s (NASDAQ:BIDU) Share Pric...</td>\n",
       "      <td>0.000</td>\n",
       "      <td>0.523</td>\n",
       "      <td>0.477</td>\n",
       "    </tr>\n",
       "    <tr>\n",
       "      <th>3</th>\n",
       "      <td>0.6143</td>\n",
       "      <td>Is Baidu, Inc. (BIDU) A Good Stock To Buy?</td>\n",
       "      <td>0.092</td>\n",
       "      <td>0.272</td>\n",
       "      <td>0.637</td>\n",
       "    </tr>\n",
       "    <tr>\n",
       "      <th>4</th>\n",
       "      <td>0.3697</td>\n",
       "      <td>Stock in the NEWS Limelight:: Baidu, Inc., (NA...</td>\n",
       "      <td>0.197</td>\n",
       "      <td>0.464</td>\n",
       "      <td>0.340</td>\n",
       "    </tr>\n",
       "    <tr>\n",
       "      <th>5</th>\n",
       "      <td>0.3905</td>\n",
       "      <td>3 Ways Baidu Plans to Make a Comeback in China</td>\n",
       "      <td>0.213</td>\n",
       "      <td>0.305</td>\n",
       "      <td>0.482</td>\n",
       "    </tr>\n",
       "    <tr>\n",
       "      <th>6</th>\n",
       "      <td>0.5353</td>\n",
       "      <td>Baidu, Inc. [BIDU] – Is there any real value t...</td>\n",
       "      <td>0.175</td>\n",
       "      <td>0.341</td>\n",
       "      <td>0.485</td>\n",
       "    </tr>\n",
       "    <tr>\n",
       "      <th>7</th>\n",
       "      <td>-0.3905</td>\n",
       "      <td>The Most Disappointing Tech Stock of 2019</td>\n",
       "      <td>0.533</td>\n",
       "      <td>0.203</td>\n",
       "      <td>0.265</td>\n",
       "    </tr>\n",
       "    <tr>\n",
       "      <th>8</th>\n",
       "      <td>-0.0856</td>\n",
       "      <td>Stocks This Week: Buy Tesla And Sell Short Baidu</td>\n",
       "      <td>0.201</td>\n",
       "      <td>0.269</td>\n",
       "      <td>0.530</td>\n",
       "    </tr>\n",
       "    <tr>\n",
       "      <th>9</th>\n",
       "      <td>0.4615</td>\n",
       "      <td>Nvidia Shares Hit Two-Year Highs After Unveili...</td>\n",
       "      <td>0.133</td>\n",
       "      <td>0.489</td>\n",
       "      <td>0.378</td>\n",
       "    </tr>\n",
       "  </tbody>\n",
       "</table>\n",
       "</div>"
      ],
      "text/plain": [
       "   compound                                           headline    neg    neu  \\\n",
       "0   -0.5550        Could Google Suffer the Same Fate as Baidu?  0.712  0.185   \n",
       "1    0.1625           Why Baidu's Stock Rose 16.4% in November  0.139  0.512   \n",
       "2    0.3732  What Is Baidu, Inc.'s (NASDAQ:BIDU) Share Pric...  0.000  0.523   \n",
       "3    0.6143         Is Baidu, Inc. (BIDU) A Good Stock To Buy?  0.092  0.272   \n",
       "4    0.3697  Stock in the NEWS Limelight:: Baidu, Inc., (NA...  0.197  0.464   \n",
       "5    0.3905     3 Ways Baidu Plans to Make a Comeback in China  0.213  0.305   \n",
       "6    0.5353  Baidu, Inc. [BIDU] – Is there any real value t...  0.175  0.341   \n",
       "7   -0.3905          The Most Disappointing Tech Stock of 2019  0.533  0.203   \n",
       "8   -0.0856   Stocks This Week: Buy Tesla And Sell Short Baidu  0.201  0.269   \n",
       "9    0.4615  Nvidia Shares Hit Two-Year Highs After Unveili...  0.133  0.489   \n",
       "\n",
       "     pos  \n",
       "0  0.103  \n",
       "1  0.349  \n",
       "2  0.477  \n",
       "3  0.637  \n",
       "4  0.340  \n",
       "5  0.482  \n",
       "6  0.485  \n",
       "7  0.265  \n",
       "8  0.530  \n",
       "9  0.378  "
      ]
     },
     "execution_count": 64,
     "metadata": {},
     "output_type": "execute_result"
    }
   ],
   "source": [
    "results"
   ]
  },
  {
   "cell_type": "code",
   "execution_count": null,
   "metadata": {},
   "outputs": [],
   "source": []
  }
 ],
 "metadata": {
  "kernelspec": {
   "display_name": "Python 3",
   "language": "python",
   "name": "python3"
  },
  "language_info": {
   "codemirror_mode": {
    "name": "ipython",
    "version": 3
   },
   "file_extension": ".py",
   "mimetype": "text/x-python",
   "name": "python",
   "nbconvert_exporter": "python",
   "pygments_lexer": "ipython3",
   "version": "3.7.3"
  }
 },
 "nbformat": 4,
 "nbformat_minor": 2
}
